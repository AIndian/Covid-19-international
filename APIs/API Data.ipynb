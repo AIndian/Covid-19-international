{
 "cells": [
  {
   "cell_type": "code",
   "execution_count": 108,
   "metadata": {},
   "outputs": [],
   "source": [
    "#Dependencies and Setup\n",
    "import requests\n",
    "import pandas as pd\n",
    "import json\n",
    "import os\n",
    "from api_key import key\n"
   ]
  },
  {
   "cell_type": "code",
   "execution_count": 117,
   "metadata": {},
   "outputs": [],
   "source": [
    "url = \"https://api.covid19api.com/premium/country/testing/\"\n",
    "country = ['Belgium','Finland','France','Ghana','Egypt','Israel','Iraq','Vietnam','Singapore','Malaysia','united-states', 'united-kingdom','Australia','new-zealand']"
   ]
  },
  {
   "cell_type": "code",
   "execution_count": 125,
   "metadata": {},
   "outputs": [],
   "source": [
    "payload = {}\n",
    "headers= {'X-Access-Token': key}\n",
    "date = []\n",
    "total = []\n",
    "daily = []\n",
    "countries = []\n",
    "for c in country:\n",
    "    response = requests.request(\"GET\", f'{url}{c}', headers=headers, data = payload).json()\n",
    "    for x in range (len(response)):\n",
    "        countries.append(c)\n",
    "        date.append(response[x]['Date'])\n",
    "        daily.append(response[x]['DailyChangeCumulativeTotal'])\n",
    "        total.append(response[x]['CumulativeTotal'])\n",
    "    \n",
    "        "
   ]
  },
  {
   "cell_type": "code",
   "execution_count": 127,
   "metadata": {},
   "outputs": [],
   "source": [
    "testing = {'Country': countries,\n",
    "    'Total Tests': total,\n",
    "    'Daily Tests': daily,\n",
    "    'date':date}\n",
    "testData = pd.DataFrame(testing)"
   ]
  },
  {
   "cell_type": "code",
   "execution_count": 131,
   "metadata": {},
   "outputs": [],
   "source": [
    "testData = testData.dropna(how='any')\n",
    "testData = testData.loc[testData['Total Tests']!= 0]"
   ]
  },
  {
   "cell_type": "code",
   "execution_count": 137,
   "metadata": {},
   "outputs": [],
   "source": []
  },
  {
   "cell_type": "code",
   "execution_count": 139,
   "metadata": {},
   "outputs": [
    {
     "data": {
      "text/html": [
       "<div>\n",
       "<style scoped>\n",
       "    .dataframe tbody tr th:only-of-type {\n",
       "        vertical-align: middle;\n",
       "    }\n",
       "\n",
       "    .dataframe tbody tr th {\n",
       "        vertical-align: top;\n",
       "    }\n",
       "\n",
       "    .dataframe thead th {\n",
       "        text-align: right;\n",
       "    }\n",
       "</style>\n",
       "<table border=\"1\" class=\"dataframe\">\n",
       "  <thead>\n",
       "    <tr style=\"text-align: right;\">\n",
       "      <th></th>\n",
       "      <th>Country</th>\n",
       "      <th>Total Tests</th>\n",
       "      <th>Daily Tests</th>\n",
       "      <th>date</th>\n",
       "    </tr>\n",
       "  </thead>\n",
       "  <tbody>\n",
       "    <tr>\n",
       "      <th>0</th>\n",
       "      <td>Belgium</td>\n",
       "      <td>82</td>\n",
       "      <td>82</td>\n",
       "      <td>2020-03-01T00:00:00Z</td>\n",
       "    </tr>\n",
       "    <tr>\n",
       "      <th>1</th>\n",
       "      <td>Belgium</td>\n",
       "      <td>399</td>\n",
       "      <td>317</td>\n",
       "      <td>2020-03-02T00:00:00Z</td>\n",
       "    </tr>\n",
       "    <tr>\n",
       "      <th>2</th>\n",
       "      <td>Belgium</td>\n",
       "      <td>937</td>\n",
       "      <td>538</td>\n",
       "      <td>2020-03-03T00:00:00Z</td>\n",
       "    </tr>\n",
       "    <tr>\n",
       "      <th>3</th>\n",
       "      <td>Belgium</td>\n",
       "      <td>1638</td>\n",
       "      <td>701</td>\n",
       "      <td>2020-03-04T00:00:00Z</td>\n",
       "    </tr>\n",
       "    <tr>\n",
       "      <th>4</th>\n",
       "      <td>Belgium</td>\n",
       "      <td>2411</td>\n",
       "      <td>773</td>\n",
       "      <td>2020-03-05T00:00:00Z</td>\n",
       "    </tr>\n",
       "    <tr>\n",
       "      <th>...</th>\n",
       "      <td>...</td>\n",
       "      <td>...</td>\n",
       "      <td>...</td>\n",
       "      <td>...</td>\n",
       "    </tr>\n",
       "    <tr>\n",
       "      <th>5111</th>\n",
       "      <td>new-zealand</td>\n",
       "      <td>1751605</td>\n",
       "      <td>14674</td>\n",
       "      <td>2021-03-04T00:00:00Z</td>\n",
       "    </tr>\n",
       "    <tr>\n",
       "      <th>5112</th>\n",
       "      <td>new-zealand</td>\n",
       "      <td>1763008</td>\n",
       "      <td>11403</td>\n",
       "      <td>2021-03-05T00:00:00Z</td>\n",
       "    </tr>\n",
       "    <tr>\n",
       "      <th>5113</th>\n",
       "      <td>new-zealand</td>\n",
       "      <td>1772480</td>\n",
       "      <td>9472</td>\n",
       "      <td>2021-03-06T00:00:00Z</td>\n",
       "    </tr>\n",
       "    <tr>\n",
       "      <th>5114</th>\n",
       "      <td>new-zealand</td>\n",
       "      <td>1779213</td>\n",
       "      <td>6733</td>\n",
       "      <td>2021-03-07T00:00:00Z</td>\n",
       "    </tr>\n",
       "    <tr>\n",
       "      <th>5115</th>\n",
       "      <td>new-zealand</td>\n",
       "      <td>1783178</td>\n",
       "      <td>3965</td>\n",
       "      <td>2021-03-08T00:00:00Z</td>\n",
       "    </tr>\n",
       "  </tbody>\n",
       "</table>\n",
       "<p>3976 rows × 4 columns</p>\n",
       "</div>"
      ],
      "text/plain": [
       "          Country  Total Tests  Daily Tests                  date\n",
       "0         Belgium           82           82  2020-03-01T00:00:00Z\n",
       "1         Belgium          399          317  2020-03-02T00:00:00Z\n",
       "2         Belgium          937          538  2020-03-03T00:00:00Z\n",
       "3         Belgium         1638          701  2020-03-04T00:00:00Z\n",
       "4         Belgium         2411          773  2020-03-05T00:00:00Z\n",
       "...           ...          ...          ...                   ...\n",
       "5111  new-zealand      1751605        14674  2021-03-04T00:00:00Z\n",
       "5112  new-zealand      1763008        11403  2021-03-05T00:00:00Z\n",
       "5113  new-zealand      1772480         9472  2021-03-06T00:00:00Z\n",
       "5114  new-zealand      1779213         6733  2021-03-07T00:00:00Z\n",
       "5115  new-zealand      1783178         3965  2021-03-08T00:00:00Z\n",
       "\n",
       "[3976 rows x 4 columns]"
      ]
     },
     "execution_count": 139,
     "metadata": {},
     "output_type": "execute_result"
    }
   ],
   "source": []
  },
  {
   "cell_type": "code",
   "execution_count": null,
   "metadata": {},
   "outputs": [],
   "source": []
  }
 ],
 "metadata": {
  "kernelspec": {
   "display_name": "Python 3",
   "language": "python",
   "name": "python3"
  },
  "language_info": {
   "codemirror_mode": {
    "name": "ipython",
    "version": 3
   },
   "file_extension": ".py",
   "mimetype": "text/x-python",
   "name": "python",
   "nbconvert_exporter": "python",
   "pygments_lexer": "ipython3",
   "version": "3.8.5"
  }
 },
 "nbformat": 4,
 "nbformat_minor": 4
}
