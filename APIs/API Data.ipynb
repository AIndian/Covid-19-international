{
 "cells": [
  {
   "cell_type": "code",
   "execution_count": 35,
   "metadata": {},
   "outputs": [],
   "source": [
    "#Dependencies and Setup\n",
    "import requests\n",
    "import pandas as pd\n",
    "import json\n",
    "import os\n",
    "from api_key import key\n"
   ]
  },
  {
   "cell_type": "code",
   "execution_count": 36,
   "metadata": {},
   "outputs": [],
   "source": [
    "url = \"https://api.covid19api.com/premium/country/testing/\"\n",
    "country = ['Belgium','Finland','France','Ghana','Egypt','Israel','Iraq','Vietnam','Singapore','Malaysia','united-states', 'united-kingdom','Australia','new-zealand','south-africa','Mexico','Canada','Nigeria','Brazil','Chile','dominican-republic','south-korea','Germany']"
   ]
  },
  {
   "cell_type": "code",
   "execution_count": 37,
   "metadata": {},
   "outputs": [],
   "source": [
    "payload = {}\n",
    "headers= {'X-Access-Token': key}\n",
    "date = []\n",
    "total = []\n",
    "daily = []\n",
    "countries = []\n",
    "for c in country:\n",
    "    response = requests.request(\"GET\", f'{url}{c}', headers=headers, data = payload).json()\n",
    "    for x in range (len(response)):\n",
    "        countries.append(c)\n",
    "        date.append(response[x]['Date'])\n",
    "        daily.append(response[x]['DailyChangeCumulativeTotal'])\n",
    "        total.append(response[x]['CumulativeTotal'])\n",
    "    \n"
   ]
  },
  {
   "cell_type": "code",
   "execution_count": 38,
   "metadata": {},
   "outputs": [],
   "source": [
    "testing = {'Country': countries,\n",
    "    'Total Tests': total,\n",
    "    'Daily Tests': daily,\n",
    "    'date':date}\n",
    "testData = pd.DataFrame(testing)"
   ]
  },
  {
   "cell_type": "code",
   "execution_count": 39,
   "metadata": {
    "scrolled": true
   },
   "outputs": [
    {
     "data": {
      "text/plain": [
       "array(['Belgium', 'Finland', 'Ghana', 'Israel', 'Iraq', 'Vietnam',\n",
       "       'Singapore', 'Malaysia', 'united-states', 'united-kingdom',\n",
       "       'Australia', 'new-zealand', 'south-africa', 'Mexico', 'Canada',\n",
       "       'Nigeria', 'Brazil', 'Chile', 'dominican-republic', 'south-korea',\n",
       "       'Germany'], dtype=object)"
      ]
     },
     "execution_count": 39,
     "metadata": {},
     "output_type": "execute_result"
    }
   ],
   "source": [
    "testData = testData.dropna(how='any')\n",
    "testData = testData.loc[testData['Total Tests']!= 0]\n",
    "testData['Country'].unique()"
   ]
  },
  {
   "cell_type": "code",
   "execution_count": 56,
   "metadata": {},
   "outputs": [
    {
     "data": {
      "text/html": [
       "<div>\n",
       "<style scoped>\n",
       "    .dataframe tbody tr th:only-of-type {\n",
       "        vertical-align: middle;\n",
       "    }\n",
       "\n",
       "    .dataframe tbody tr th {\n",
       "        vertical-align: top;\n",
       "    }\n",
       "\n",
       "    .dataframe thead th {\n",
       "        text-align: right;\n",
       "    }\n",
       "</style>\n",
       "<table border=\"1\" class=\"dataframe\">\n",
       "  <thead>\n",
       "    <tr style=\"text-align: right;\">\n",
       "      <th></th>\n",
       "      <th>Country</th>\n",
       "      <th>Total Tests</th>\n",
       "      <th>Daily Tests</th>\n",
       "      <th>date</th>\n",
       "    </tr>\n",
       "  </thead>\n",
       "  <tbody>\n",
       "    <tr>\n",
       "      <th>0</th>\n",
       "      <td>Belgium</td>\n",
       "      <td>82</td>\n",
       "      <td>82</td>\n",
       "      <td>2020-03-01</td>\n",
       "    </tr>\n",
       "    <tr>\n",
       "      <th>1</th>\n",
       "      <td>Belgium</td>\n",
       "      <td>399</td>\n",
       "      <td>317</td>\n",
       "      <td>2020-03-02</td>\n",
       "    </tr>\n",
       "    <tr>\n",
       "      <th>2</th>\n",
       "      <td>Belgium</td>\n",
       "      <td>937</td>\n",
       "      <td>538</td>\n",
       "      <td>2020-03-03</td>\n",
       "    </tr>\n",
       "    <tr>\n",
       "      <th>3</th>\n",
       "      <td>Belgium</td>\n",
       "      <td>1638</td>\n",
       "      <td>701</td>\n",
       "      <td>2020-03-04</td>\n",
       "    </tr>\n",
       "    <tr>\n",
       "      <th>4</th>\n",
       "      <td>Belgium</td>\n",
       "      <td>2411</td>\n",
       "      <td>773</td>\n",
       "      <td>2020-03-05</td>\n",
       "    </tr>\n",
       "    <tr>\n",
       "      <th>...</th>\n",
       "      <td>...</td>\n",
       "      <td>...</td>\n",
       "      <td>...</td>\n",
       "      <td>...</td>\n",
       "    </tr>\n",
       "    <tr>\n",
       "      <th>7910</th>\n",
       "      <td>south-korea</td>\n",
       "      <td>6691811</td>\n",
       "      <td>41475</td>\n",
       "      <td>2021-03-04</td>\n",
       "    </tr>\n",
       "    <tr>\n",
       "      <th>7911</th>\n",
       "      <td>south-korea</td>\n",
       "      <td>6725304</td>\n",
       "      <td>33493</td>\n",
       "      <td>2021-03-05</td>\n",
       "    </tr>\n",
       "    <tr>\n",
       "      <th>7912</th>\n",
       "      <td>south-korea</td>\n",
       "      <td>6756772</td>\n",
       "      <td>31468</td>\n",
       "      <td>2021-03-06</td>\n",
       "    </tr>\n",
       "    <tr>\n",
       "      <th>7913</th>\n",
       "      <td>south-korea</td>\n",
       "      <td>6776730</td>\n",
       "      <td>19958</td>\n",
       "      <td>2021-03-07</td>\n",
       "    </tr>\n",
       "    <tr>\n",
       "      <th>7914</th>\n",
       "      <td>south-korea</td>\n",
       "      <td>6794415</td>\n",
       "      <td>17685</td>\n",
       "      <td>2021-03-08</td>\n",
       "    </tr>\n",
       "  </tbody>\n",
       "</table>\n",
       "<p>6098 rows × 4 columns</p>\n",
       "</div>"
      ],
      "text/plain": [
       "          Country  Total Tests  Daily Tests       date\n",
       "0         Belgium           82           82 2020-03-01\n",
       "1         Belgium          399          317 2020-03-02\n",
       "2         Belgium          937          538 2020-03-03\n",
       "3         Belgium         1638          701 2020-03-04\n",
       "4         Belgium         2411          773 2020-03-05\n",
       "...           ...          ...          ...        ...\n",
       "7910  south-korea      6691811        41475 2021-03-04\n",
       "7911  south-korea      6725304        33493 2021-03-05\n",
       "7912  south-korea      6756772        31468 2021-03-06\n",
       "7913  south-korea      6776730        19958 2021-03-07\n",
       "7914  south-korea      6794415        17685 2021-03-08\n",
       "\n",
       "[6098 rows x 4 columns]"
      ]
     },
     "execution_count": 56,
     "metadata": {},
     "output_type": "execute_result"
    }
   ],
   "source": [
    "testData['date'] = pd.to_datetime(testData['date']).dt.strftime('%m/%d/%Y')\n",
    "testData['date'] = pd.to_datetime(testData['date'])\n",
    "testData"
   ]
  },
  {
   "cell_type": "code",
   "execution_count": 57,
   "metadata": {},
   "outputs": [],
   "source": [
    "testData = testData.loc[testData['Daily Tests']!= 0]\n",
    "testData = testData.loc[testData['date'].dt.year < 2021 ]"
   ]
  },
  {
   "cell_type": "code",
   "execution_count": 58,
   "metadata": {},
   "outputs": [
    {
     "data": {
      "text/plain": [
       "array(['Belgium', 'Finland', 'Ghana', 'Israel', 'Iraq', 'Vietnam',\n",
       "       'Malaysia', 'united-states', 'united-kingdom', 'Australia',\n",
       "       'new-zealand', 'south-africa', 'Mexico', 'Canada', 'Nigeria',\n",
       "       'Chile', 'dominican-republic', 'south-korea'], dtype=object)"
      ]
     },
     "execution_count": 58,
     "metadata": {},
     "output_type": "execute_result"
    }
   ],
   "source": [
    "testData['Country'].unique()"
   ]
  },
  {
   "cell_type": "code",
   "execution_count": 47,
   "metadata": {},
   "outputs": [],
   "source": [
    "testData.to_csv(\"testData.csv\", index=False, header=True)"
   ]
  },
  {
   "cell_type": "code",
   "execution_count": 59,
   "metadata": {},
   "outputs": [
    {
     "data": {
      "text/html": [
       "<div>\n",
       "<style scoped>\n",
       "    .dataframe tbody tr th:only-of-type {\n",
       "        vertical-align: middle;\n",
       "    }\n",
       "\n",
       "    .dataframe tbody tr th {\n",
       "        vertical-align: top;\n",
       "    }\n",
       "\n",
       "    .dataframe thead th {\n",
       "        text-align: right;\n",
       "    }\n",
       "</style>\n",
       "<table border=\"1\" class=\"dataframe\">\n",
       "  <thead>\n",
       "    <tr style=\"text-align: right;\">\n",
       "      <th></th>\n",
       "      <th>Country</th>\n",
       "      <th>Total Tests</th>\n",
       "      <th>Daily Tests</th>\n",
       "      <th>date</th>\n",
       "    </tr>\n",
       "  </thead>\n",
       "  <tbody>\n",
       "    <tr>\n",
       "      <th>4458</th>\n",
       "      <td>Australia</td>\n",
       "      <td>302663</td>\n",
       "      <td>5509</td>\n",
       "      <td>2020-04-06</td>\n",
       "    </tr>\n",
       "    <tr>\n",
       "      <th>4459</th>\n",
       "      <td>Australia</td>\n",
       "      <td>310700</td>\n",
       "      <td>8037</td>\n",
       "      <td>2020-04-07</td>\n",
       "    </tr>\n",
       "    <tr>\n",
       "      <th>4460</th>\n",
       "      <td>Australia</td>\n",
       "      <td>319368</td>\n",
       "      <td>8668</td>\n",
       "      <td>2020-04-08</td>\n",
       "    </tr>\n",
       "    <tr>\n",
       "      <th>4461</th>\n",
       "      <td>Australia</td>\n",
       "      <td>330134</td>\n",
       "      <td>10766</td>\n",
       "      <td>2020-04-09</td>\n",
       "    </tr>\n",
       "    <tr>\n",
       "      <th>4462</th>\n",
       "      <td>Australia</td>\n",
       "      <td>338346</td>\n",
       "      <td>8212</td>\n",
       "      <td>2020-04-10</td>\n",
       "    </tr>\n",
       "    <tr>\n",
       "      <th>...</th>\n",
       "      <td>...</td>\n",
       "      <td>...</td>\n",
       "      <td>...</td>\n",
       "      <td>...</td>\n",
       "    </tr>\n",
       "    <tr>\n",
       "      <th>4719</th>\n",
       "      <td>Australia</td>\n",
       "      <td>10815210</td>\n",
       "      <td>89673</td>\n",
       "      <td>2020-12-23</td>\n",
       "    </tr>\n",
       "    <tr>\n",
       "      <th>4724</th>\n",
       "      <td>Australia</td>\n",
       "      <td>11124593</td>\n",
       "      <td>29427</td>\n",
       "      <td>2020-12-28</td>\n",
       "    </tr>\n",
       "    <tr>\n",
       "      <th>4725</th>\n",
       "      <td>Australia</td>\n",
       "      <td>11163904</td>\n",
       "      <td>39311</td>\n",
       "      <td>2020-12-29</td>\n",
       "    </tr>\n",
       "    <tr>\n",
       "      <th>4726</th>\n",
       "      <td>Australia</td>\n",
       "      <td>11204351</td>\n",
       "      <td>40447</td>\n",
       "      <td>2020-12-30</td>\n",
       "    </tr>\n",
       "    <tr>\n",
       "      <th>4727</th>\n",
       "      <td>Australia</td>\n",
       "      <td>11260636</td>\n",
       "      <td>56285</td>\n",
       "      <td>2020-12-31</td>\n",
       "    </tr>\n",
       "  </tbody>\n",
       "</table>\n",
       "<p>202 rows × 4 columns</p>\n",
       "</div>"
      ],
      "text/plain": [
       "        Country  Total Tests  Daily Tests       date\n",
       "4458  Australia       302663         5509 2020-04-06\n",
       "4459  Australia       310700         8037 2020-04-07\n",
       "4460  Australia       319368         8668 2020-04-08\n",
       "4461  Australia       330134        10766 2020-04-09\n",
       "4462  Australia       338346         8212 2020-04-10\n",
       "...         ...          ...          ...        ...\n",
       "4719  Australia     10815210        89673 2020-12-23\n",
       "4724  Australia     11124593        29427 2020-12-28\n",
       "4725  Australia     11163904        39311 2020-12-29\n",
       "4726  Australia     11204351        40447 2020-12-30\n",
       "4727  Australia     11260636        56285 2020-12-31\n",
       "\n",
       "[202 rows x 4 columns]"
      ]
     },
     "execution_count": 59,
     "metadata": {},
     "output_type": "execute_result"
    }
   ],
   "source": [
    "testData[testData['Country']== 'Australia']"
   ]
  },
  {
   "cell_type": "code",
   "execution_count": null,
   "metadata": {},
   "outputs": [],
   "source": []
  }
 ],
 "metadata": {
  "kernelspec": {
   "display_name": "Python 3",
   "language": "python",
   "name": "python3"
  },
  "language_info": {
   "codemirror_mode": {
    "name": "ipython",
    "version": 3
   },
   "file_extension": ".py",
   "mimetype": "text/x-python",
   "name": "python",
   "nbconvert_exporter": "python",
   "pygments_lexer": "ipython3",
   "version": "3.8.5"
  }
 },
 "nbformat": 4,
 "nbformat_minor": 4
}
